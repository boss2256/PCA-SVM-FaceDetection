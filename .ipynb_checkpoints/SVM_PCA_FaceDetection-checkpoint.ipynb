{
 "cells": [
  {
   "cell_type": "markdown",
   "id": "bbd1454f",
   "metadata": {},
   "source": [
    "# Background\n",
    "# Online Face detection and Recognition system\n",
    "## Requirements: \n",
    "### 1. Able to create new user accounts with GUI\n",
    "### 2. Detect and recognize a person with a live camera"
   ]
  },
  {
   "cell_type": "markdown",
   "id": "136ada1b",
   "metadata": {},
   "source": [
    "# Workflow: User Registration, Model Training, and Login\n",
    "\n",
    "This workflow involves three main steps: \n",
    "1. **User Registration:** Capture images of the user's face to create a dataset.\n",
    "2. **Model Training:** Train a machine learning model (Support Vector Machine) on the collected face images.\n",
    "3. **Login:** Authenticate users based on their facial features."
   ]
  },
  {
   "cell_type": "markdown",
   "id": "1f5ae25f",
   "metadata": {},
   "source": [
    "## Step 1: Setup Environment"
   ]
  },
  {
   "cell_type": "code",
   "execution_count": 7,
   "id": "b2c3023e",
   "metadata": {},
   "outputs": [
    {
     "name": "stdout",
     "output_type": "stream",
     "text": [
      "Requirement already satisfied: numpy in c:\\users\\nasru\\anaconda3\\envs\\machine_learning\\lib\\site-packages (1.26.4)\n",
      "Collecting opencv-python\n",
      "  Using cached opencv_python-4.9.0.80-cp37-abi3-win_amd64.whl.metadata (20 kB)\n",
      "Requirement already satisfied: scikit-learn in c:\\users\\nasru\\anaconda3\\envs\\machine_learning\\lib\\site-packages (1.4.1.post1)\n",
      "Requirement already satisfied: pandas in c:\\users\\nasru\\anaconda3\\envs\\machine_learning\\lib\\site-packages (2.2.1)\n",
      "Requirement already satisfied: matplotlib in c:\\users\\nasru\\anaconda3\\envs\\machine_learning\\lib\\site-packages (3.8.3)\n",
      "Requirement already satisfied: scipy>=1.6.0 in c:\\users\\nasru\\anaconda3\\envs\\machine_learning\\lib\\site-packages (from scikit-learn) (1.12.0)\n",
      "Requirement already satisfied: joblib>=1.2.0 in c:\\users\\nasru\\anaconda3\\envs\\machine_learning\\lib\\site-packages (from scikit-learn) (1.2.0)\n",
      "Requirement already satisfied: threadpoolctl>=2.0.0 in c:\\users\\nasru\\anaconda3\\envs\\machine_learning\\lib\\site-packages (from scikit-learn) (2.2.0)\n",
      "Requirement already satisfied: python-dateutil>=2.8.2 in c:\\users\\nasru\\anaconda3\\envs\\machine_learning\\lib\\site-packages (from pandas) (2.8.2)\n",
      "Requirement already satisfied: pytz>=2020.1 in c:\\users\\nasru\\anaconda3\\envs\\machine_learning\\lib\\site-packages (from pandas) (2023.3.post1)\n",
      "Requirement already satisfied: tzdata>=2022.7 in c:\\users\\nasru\\anaconda3\\envs\\machine_learning\\lib\\site-packages (from pandas) (2023.3)\n",
      "Requirement already satisfied: contourpy>=1.0.1 in c:\\users\\nasru\\anaconda3\\envs\\machine_learning\\lib\\site-packages (from matplotlib) (1.2.0)\n",
      "Requirement already satisfied: cycler>=0.10 in c:\\users\\nasru\\anaconda3\\envs\\machine_learning\\lib\\site-packages (from matplotlib) (0.11.0)\n",
      "Requirement already satisfied: fonttools>=4.22.0 in c:\\users\\nasru\\anaconda3\\envs\\machine_learning\\lib\\site-packages (from matplotlib) (4.25.0)\n",
      "Requirement already satisfied: kiwisolver>=1.3.1 in c:\\users\\nasru\\anaconda3\\envs\\machine_learning\\lib\\site-packages (from matplotlib) (1.4.4)\n",
      "Requirement already satisfied: packaging>=20.0 in c:\\users\\nasru\\anaconda3\\envs\\machine_learning\\lib\\site-packages (from matplotlib) (23.2)\n",
      "Requirement already satisfied: pillow>=8 in c:\\users\\nasru\\anaconda3\\envs\\machine_learning\\lib\\site-packages (from matplotlib) (10.2.0)\n",
      "Requirement already satisfied: pyparsing>=2.3.1 in c:\\users\\nasru\\anaconda3\\envs\\machine_learning\\lib\\site-packages (from matplotlib) (3.0.9)\n",
      "Requirement already satisfied: six>=1.5 in c:\\users\\nasru\\anaconda3\\envs\\machine_learning\\lib\\site-packages (from python-dateutil>=2.8.2->pandas) (1.16.0)\n",
      "Using cached opencv_python-4.9.0.80-cp37-abi3-win_amd64.whl (38.6 MB)\n",
      "Installing collected packages: opencv-python\n",
      "Successfully installed opencv-python-4.9.0.80\n"
     ]
    },
    {
     "name": "stderr",
     "output_type": "stream",
     "text": [
      "ERROR: pip's dependency resolver does not currently take into account all the packages that are installed. This behaviour is the source of the following dependency conflicts.\n",
      "autodistill-grounding-dino 0.1.3 requires rf-groundingdino, which is not installed.\n",
      "autodistill-grounding-dino 0.1.3 requires rf-segment-anything, which is not installed.\n",
      "autodistill-grounding-dino 0.1.3 requires torch, which is not installed.\n"
     ]
    }
   ],
   "source": [
    "!pip install numpy opencv-python scikit-learn pandas matplotlib"
   ]
  },
  {
   "cell_type": "code",
   "execution_count": 8,
   "id": "c361c329",
   "metadata": {},
   "outputs": [
    {
     "name": "stdout",
     "output_type": "stream",
     "text": [
      "Requirement already satisfied: opencv-python-headless in c:\\users\\nasru\\appdata\\roaming\\python\\python310\\site-packages (4.9.0.80)\n",
      "Requirement already satisfied: scikit-learn in c:\\users\\nasru\\anaconda3\\envs\\machine_learning\\lib\\site-packages (1.4.1.post1)\n",
      "Requirement already satisfied: numpy in c:\\users\\nasru\\anaconda3\\envs\\machine_learning\\lib\\site-packages (1.26.4)\n",
      "Requirement already satisfied: scipy>=1.6.0 in c:\\users\\nasru\\anaconda3\\envs\\machine_learning\\lib\\site-packages (from scikit-learn) (1.12.0)\n",
      "Requirement already satisfied: joblib>=1.2.0 in c:\\users\\nasru\\anaconda3\\envs\\machine_learning\\lib\\site-packages (from scikit-learn) (1.2.0)\n",
      "Requirement already satisfied: threadpoolctl>=2.0.0 in c:\\users\\nasru\\anaconda3\\envs\\machine_learning\\lib\\site-packages (from scikit-learn) (2.2.0)\n"
     ]
    }
   ],
   "source": [
    "!pip install opencv-python-headless scikit-learn numpy"
   ]
  },
  {
   "cell_type": "markdown",
   "id": "e5e54b71",
   "metadata": {},
   "source": [
    "## Step 2: Import Libraries"
   ]
  },
  {
   "cell_type": "code",
   "execution_count": 33,
   "id": "8ef24210",
   "metadata": {},
   "outputs": [],
   "source": [
    "import tkinter as tk\n",
    "from tkinter import simpledialog, messagebox\n",
    "import cv2\n",
    "import os\n",
    "import numpy as np\n",
    "import pandas as pd\n",
    "from sklearn.model_selection import train_test_split\n",
    "from sklearn.decomposition import PCA\n",
    "from sklearn.svm import SVC\n",
    "from sklearn.metrics import classification_report, confusion_matrix\n",
    "import joblib\n",
    "import time"
   ]
  },
  {
   "cell_type": "markdown",
   "id": "7961debe",
   "metadata": {},
   "source": [
    "## Step 3: GUI for User Interaction\n"
   ]
  },
  {
   "cell_type": "code",
   "execution_count": 34,
   "id": "a66fd6fa",
   "metadata": {},
   "outputs": [],
   "source": [
    "# Setting up file paths for user images, users CSV, model, PCA, and label dictionary\n",
    "user_images_dir = 'user_images'\n",
    "users_csv = 'users.csv'\n",
    "model_filename = 'svm_face_model.pkl'\n",
    "pca_filename = 'pca.pkl'\n",
    "label_dict_filename = 'label_dict.csv'\n",
    "\n",
    "# Creating user images directory if it doesn't exist\n",
    "if not os.path.exists(user_images_dir):\n",
    "    os.makedirs(user_images_dir)\n",
    "\n",
    "# Ensuring the users CSV exists, if not, creating it with headers\n",
    "if not os.path.exists(users_csv):\n",
    "    with open(users_csv, 'w') as file:\n",
    "        file.write('username,path\\n')\n",
    "\n",
    "# Function to capture images for a new user\n",
    "import matplotlib.pyplot as plt\n",
    "\n",
    "def capture_images(username):\n",
    "    cap = cv2.VideoCapture(0)\n",
    "    face_cascade = cv2.CascadeClassifier(cv2.data.haarcascades + 'haarcascade_frontalface_default.xml')\n",
    "    count = 0\n",
    "\n",
    "    user_dir = os.path.join(user_images_dir, username)\n",
    "    if not os.path.exists(user_dir):\n",
    "        os.makedirs(user_dir)\n",
    "\n",
    "    print(\"Press 's' to start capturing images...\")\n",
    "\n",
    "    fig, ax = plt.subplots()\n",
    "    while True:\n",
    "        ret, frame = cap.read()\n",
    "        if not ret:\n",
    "            break\n",
    "        gray = cv2.cvtColor(frame, cv2.COLOR_BGR2GRAY)\n",
    "        faces = face_cascade.detectMultiScale(gray, 1.1, 4)\n",
    "\n",
    "        for (x, y, w, h) in faces:\n",
    "            cv2.rectangle(frame, (x, y), (x+w, y+h), (255, 0, 0), 2)\n",
    "            face = gray[y:y+h, x:x+w]\n",
    "            face = cv2.resize(face, (100, 100))\n",
    "            if count < 100:\n",
    "                cv2.imwrite(os.path.join(user_dir, f'{count}.png'), face)\n",
    "                count += 1\n",
    "                print(f\"Captured {count}/100 images\")\n",
    "\n",
    "        ax.imshow(cv2.cvtColor(frame, cv2.COLOR_BGR2RGB))\n",
    "        plt.draw()\n",
    "        plt.pause(0.01)\n",
    "        ax.clear()\n",
    "\n",
    "        if count >= 100:\n",
    "            print(\"Finished capturing images.\")\n",
    "            break\n",
    "\n",
    "    cap.release()\n",
    "    plt.close()\n",
    "\n",
    "    with open(users_csv, 'a') as file:\n",
    "        file.write(f'{username},{user_dir}\\n')\n",
    "\n",
    "\n",
    "\n",
    "# Function to train the model\n",
    "def train_model():\n",
    "    X, y, label_dict = load_images_and_labels()\n",
    "\n",
    "    if len(set(y)) <= 1:\n",
    "        print(\"Error: Need at least two different users to train the model.\")\n",
    "        return\n",
    "\n",
    "    pca = PCA(n_components=min(100, len(X))).fit(X)\n",
    "    X_pca = pca.transform(X)\n",
    "    X_train, X_test, y_train, y_test = train_test_split(X_pca, y, test_size=0.25, random_state=42)\n",
    "\n",
    "    clf = SVC(kernel='linear', probability=True)\n",
    "    clf.fit(X_train, y_train)\n",
    "\n",
    "    joblib.dump(clf, model_filename)\n",
    "    joblib.dump(pca, pca_filename)\n",
    "    pd.DataFrame.from_dict(label_dict, orient='index').to_csv(label_dict_filename, header=False)\n",
    "\n",
    "    y_pred = clf.predict(X_test)\n",
    "    print(classification_report(y_test, y_pred))\n",
    "    print(confusion_matrix(y_test, y_pred))\n",
    "\n",
    "\n",
    "# Function to load images and labels\n",
    "def load_images_and_labels():\n",
    "    images = []  # List to store images\n",
    "    labels = []  # List to store labels\n",
    "    label_dict = {}  # Dictionary to store label-user mapping\n",
    "    users_df = pd.read_csv(users_csv)  # Reading users CSV\n",
    "    \n",
    "    for index, row in users_df.iterrows():\n",
    "        user_folder = row['path']  # Path to user's image directory\n",
    "        username = row['username']  # User's name\n",
    "        label = index  # Label for the user\n",
    "        label_dict[label] = username  # Mapping label to username\n",
    "        \n",
    "        for image_file in os.listdir(user_folder):\n",
    "            image_path = os.path.join(user_folder, image_file)  # Path to the image file\n",
    "            image = cv2.imread(image_path, 0)  # Reading image in grayscale\n",
    "            images.append(image)  # Appending image to list\n",
    "            labels.append(label)  # Appending label to list\n",
    "    \n",
    "    X = np.array(images).reshape(len(images), -1)  # Converting image list to numpy array\n",
    "    y = np.array(labels)  # Converting label list to numpy array\n",
    "    return X, y, label_dict  # Returning images, labels, and label dictionary\n",
    "\n",
    "# Function to login using Face ID\n",
    "def login_user():\n",
    "    username = simpledialog.askstring(\"Login\", \"Enter username to login:\")\n",
    "    if not username:\n",
    "        messagebox.showinfo(\"Login\", \"No username entered.\")\n",
    "        return\n",
    "\n",
    "    clf = joblib.load(model_filename)\n",
    "    pca = joblib.load(pca_filename)\n",
    "    label_dict = pd.read_csv(label_dict_filename, header=None, index_col=0).squeeze(\"columns\").to_dict()\n",
    "\n",
    "    target_label = None\n",
    "    for label, user in label_dict.items():\n",
    "        if user == username:\n",
    "            target_label = label\n",
    "            break\n",
    "\n",
    "    if target_label is None:\n",
    "        messagebox.showinfo(\"Login\", f\"Username '{username}' not found in trained model.\")\n",
    "        return\n",
    "\n",
    "    cap = cv2.VideoCapture(0)\n",
    "    face_cascade = cv2.CascadeClassifier(cv2.data.haarcascades + 'haarcascade_frontalface_default.xml')\n",
    "    detected = False\n",
    "    start_time = time.time()\n",
    "\n",
    "    print(\"Attempting to log in...\")\n",
    "\n",
    "    fig, ax = plt.subplots()\n",
    "    while time.time() - start_time < 5:\n",
    "        ret, frame = cap.read()\n",
    "        if not ret:\n",
    "            break\n",
    "        gray = cv2.cvtColor(frame, cv2.COLOR_BGR2GRAY)\n",
    "        faces = face_cascade.detectMultiScale(gray, 1.1, 4)\n",
    "\n",
    "        for (x, y, w, h) in faces:\n",
    "            cv2.rectangle(frame, (x, y), (x+w, y+h), (255, 0, 0), 2)\n",
    "            face = gray[y:y+h, x:x+w]\n",
    "            face = cv2.resize(face, (100, 100)).reshape(1, -1)\n",
    "            face_pca = pca.transform(face)\n",
    "\n",
    "            pred = clf.predict(face_pca)\n",
    "            prob = clf.predict_proba(face_pca).max()\n",
    "\n",
    "            if pred[0] == target_label and prob > 0.90:\n",
    "                print(f'{username} detected with confidence {prob*100:.2f}%')\n",
    "                detected = True\n",
    "                break\n",
    "            else:\n",
    "                print(f'{username} not detected')\n",
    "\n",
    "        ax.imshow(cv2.cvtColor(frame, cv2.COLOR_BGR2RGB))\n",
    "        plt.draw()\n",
    "        plt.pause(0.01)\n",
    "        ax.clear()\n",
    "\n",
    "        if detected:\n",
    "            break\n",
    "\n",
    "    cap.release()\n",
    "    plt.close()\n",
    "\n",
    "    if detected:\n",
    "        messagebox.showinfo(\"Login Successful\", f\"{username} logged in.\")\n",
    "    else:\n",
    "        messagebox.showinfo(\"Login Failed\", f\"{username} could not be logged in.\")\n"
   ]
  },
  {
   "cell_type": "markdown",
   "id": "b77a7c06",
   "metadata": {},
   "source": [
    "## Step 4: Start GUI"
   ]
  },
  {
   "cell_type": "code",
   "execution_count": 35,
   "id": "af15f76e",
   "metadata": {},
   "outputs": [
    {
     "name": "stdout",
     "output_type": "stream",
     "text": [
      "Press 's' to start capturing images...\n",
      "Captured 1/100 images\n",
      "Captured 2/100 images\n"
     ]
    },
    {
     "name": "stderr",
     "output_type": "stream",
     "text": [
      "Exception in Tkinter callback\n",
      "Traceback (most recent call last):\n",
      "  File \"C:\\Users\\nasru\\anaconda3\\envs\\machine_learning\\lib\\tkinter\\__init__.py\", line 1921, in __call__\n",
      "    return self.func(*args)\n",
      "  File \"C:\\Users\\nasru\\AppData\\Local\\Temp\\ipykernel_27592\\662463732.py\", line 4, in create_user\n",
      "    capture_images(username)\n",
      "  File \"C:\\Users\\nasru\\AppData\\Local\\Temp\\ipykernel_27592\\4208679930.py\", line 45, in capture_images\n",
      "    cv2.imshow('Capture Images - Press s to save 100 photos', frame)\n",
      "cv2.error: OpenCV(4.9.0) D:\\a\\opencv-python\\opencv-python\\opencv\\modules\\highgui\\src\\window.cpp:1272: error: (-2:Unspecified error) The function is not implemented. Rebuild the library with Windows, GTK+ 2.x or Cocoa support. If you are on Ubuntu or Debian, install libgtk2.0-dev and pkg-config, then re-run cmake or configure script in function 'cvShowImage'\n",
      "\n"
     ]
    }
   ],
   "source": [
    "def create_user():\n",
    "    username = simpledialog.askstring(\"Input\", \"Enter New User Name:\")\n",
    "    if username:\n",
    "        capture_images(username)\n",
    "\n",
    "def app_gui():\n",
    "    root = tk.Tk()\n",
    "    root.title(\"Face Detection and Recognition System\")\n",
    "\n",
    "    create_user_btn = tk.Button(root, text=\"Create New User\", command=create_user)\n",
    "    create_user_btn.pack(pady=20)\n",
    "\n",
    "    login_btn = tk.Button(root, text=\"Face ID Login\", command=login_user)\n",
    "    login_btn.pack(pady=20)\n",
    "\n",
    "    train_btn = tk.Button(root, text=\"Train Model\", command=train_model)\n",
    "    train_btn.pack(pady=20)\n",
    "\n",
    "    root.mainloop()\n",
    "\n",
    "app_gui()\n"
   ]
  },
  {
   "cell_type": "code",
   "execution_count": null,
   "id": "f7c5a73c",
   "metadata": {},
   "outputs": [],
   "source": []
  },
  {
   "cell_type": "code",
   "execution_count": null,
   "id": "a235211f",
   "metadata": {},
   "outputs": [],
   "source": []
  }
 ],
 "metadata": {
  "kernelspec": {
   "display_name": "Python 3 (ipykernel)",
   "language": "python",
   "name": "python3"
  },
  "language_info": {
   "codemirror_mode": {
    "name": "ipython",
    "version": 3
   },
   "file_extension": ".py",
   "mimetype": "text/x-python",
   "name": "python",
   "nbconvert_exporter": "python",
   "pygments_lexer": "ipython3",
   "version": "3.10.14"
  }
 },
 "nbformat": 4,
 "nbformat_minor": 5
}
